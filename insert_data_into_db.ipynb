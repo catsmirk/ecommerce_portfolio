{
 "cells": [
  {
   "cell_type": "markdown",
   "metadata": {},
   "source": [
    "# Parameters"
   ]
  },
  {
   "cell_type": "code",
   "execution_count": 25,
   "metadata": {},
   "outputs": [],
   "source": [
    "input_folder_path = \"/Users/lethithuha/Desktop/all coding projects/ECommerce_Portfolio/ecommerce_portfolio/dataset\""
   ]
  },
  {
   "cell_type": "markdown",
   "metadata": {},
   "source": [
    "# PostgresSQL Database credentials"
   ]
  },
  {
   "cell_type": "code",
   "execution_count": 26,
   "metadata": {},
   "outputs": [],
   "source": [
    "# Step 2: Create a connection to the PostgreSQL database\n",
    "db_username = 'postgres'\n",
    "db_password = '123456'\n",
    "db_host = 'localhost'\n",
    "db_port = '5432'\n",
    "db_name = 'postgres'"
   ]
  },
  {
   "cell_type": "markdown",
   "metadata": {},
   "source": [
    "# Import libraries"
   ]
  },
  {
   "cell_type": "code",
   "execution_count": 27,
   "metadata": {},
   "outputs": [],
   "source": [
    "import os\n",
    "import pandas as pd\n",
    "from sqlalchemy import create_engine"
   ]
  },
  {
   "cell_type": "markdown",
   "metadata": {},
   "source": [
    "# Util functions"
   ]
  },
  {
   "cell_type": "code",
   "execution_count": 28,
   "metadata": {},
   "outputs": [],
   "source": [
    "\n",
    "def insert_data(input_folder_path, engine, write_mode='append'):\n",
    "    \"\"\" Insert all csv files in a folder into a PostgresSQL database based on their table name.\n",
    "    Args:\n",
    "        input_folder: The name of the folder containing dataset files in CSV.\n",
    "    \"\"\"\n",
    "    # Read each csv file in the folder and insert into the database\n",
    "    for file in os.listdir(input_folder_path):\n",
    "        if file.endswith('.csv'):\n",
    "            file_path = os.path.join(input_folder_path, file)\n",
    "            # Read the CSV file with a specified encoding\n",
    "            try:\n",
    "                df = pd.read_csv(file_path, encoding='utf-8', header = 1)\n",
    "            except UnicodeDecodeError:\n",
    "                df = pd.read_csv(file_path, encoding='latin1', header = 1)\n",
    "            # Get the table name by removing the file extension\n",
    "            table_name = os.path.splitext(os.path.basename(file_path))[0]\n",
    "            # Step 3: Insert the DataFrame into the PostgreSQL table\n",
    "            df.to_sql(table_name, engine, if_exists=write_mode, index=False)\n",
    "            print(f\"Data in {table_name} has been successfully inserted into the PostgreSQL database.\")    "
   ]
  },
  {
   "cell_type": "markdown",
   "metadata": {},
   "source": [
    "# Insert data into Postgres SQL"
   ]
  },
  {
   "cell_type": "code",
   "execution_count": 29,
   "metadata": {},
   "outputs": [
    {
     "name": "stdout",
     "output_type": "stream",
     "text": [
      "Data in time_dim has been successfully inserted into the PostgreSQL database.\n",
      "Data has been successfully inserted into the PostgreSQL database.\n"
     ]
    }
   ],
   "source": [
    "# Create the connection string\n",
    "connection_string = f'postgresql://{db_username}:{db_password}@{db_host}:{db_port}/{db_name}'\n",
    "\n",
    "# Create the SQLAlchemy engine\n",
    "engine = create_engine(connection_string)\n",
    "\n",
    "# # Rename DataFrame columns to match PostgreSQL table columns\n",
    "# combined_df.rename(columns={\n",
    "#     'Company Name': 'company_name',\n",
    "#     'Transactions': 'transactions',\n",
    "#     'Address': 'address',\n",
    "#     'Contact': 'contact',\n",
    "#     'Email': 'email'\n",
    "# }, inplace=True)\n",
    "\n",
    "# Step 3: Insert the DataFrame into the PostgreSQL table\n",
    "insert_data(input_folder_path, engine)\n",
    "\n",
    "print(\"Data has been successfully inserted into the PostgreSQL database.\")"
   ]
  }
 ],
 "metadata": {
  "kernelspec": {
   "display_name": "myenv",
   "language": "python",
   "name": "python3"
  },
  "language_info": {
   "codemirror_mode": {
    "name": "ipython",
    "version": 3
   },
   "file_extension": ".py",
   "mimetype": "text/x-python",
   "name": "python",
   "nbconvert_exporter": "python",
   "pygments_lexer": "ipython3",
   "version": "3.12.5"
  }
 },
 "nbformat": 4,
 "nbformat_minor": 2
}
